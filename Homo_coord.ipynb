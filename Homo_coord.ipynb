{
 "cells": [
  {
   "cell_type": "code",
   "execution_count": null,
   "metadata": {},
   "outputs": [
    {
     "ename": "",
     "evalue": "",
     "output_type": "error",
     "traceback": [
      "\u001b[1;31mLa ejecución de celdas con 'Python 3.12.4' requiere el paquete ipykernel.\n",
      "\u001b[1;31mEjecute el siguiente comando para instalar 'ipykernel' en el entorno de Python. comando \n",
      "\u001b[1;31m: '/usr/local/bin/python3 -m pip install ipykernel -U --user --force-reinstall'"
     ]
    }
   ],
   "source": [
    "import pandas as pd\n",
    "from pyproj import Proj, transform, CRS\n"
   ]
  },
  {
   "cell_type": "code",
   "execution_count": null,
   "metadata": {},
   "outputs": [
    {
     "ename": "",
     "evalue": "",
     "output_type": "error",
     "traceback": [
      "\u001b[1;31mLa ejecución de celdas con 'Python 3.12.4' requiere el paquete ipykernel.\n",
      "\u001b[1;31mEjecute el siguiente comando para instalar 'ipykernel' en el entorno de Python. comando \n",
      "\u001b[1;31m: '/usr/local/bin/python3 -m pip install ipykernel -U --user --force-reinstall'"
     ]
    }
   ],
   "source": [
    "# Carga el archivo Excel\n",
    "ruta_excel = \"SUELOS_herbaceos_secano_RESILIENCIA_correccion.xlsx\"\n",
    "datos = pd.read_excel(ruta_excel, index_col= )\n",
    "\n",
    "# Muestra las primeras filas\n",
    "print(datos.head())\n"
   ]
  },
  {
   "cell_type": "code",
   "execution_count": null,
   "metadata": {},
   "outputs": [],
   "source": [
    "\n",
    "# Datos de ejemplo\n",
    "data = {\n",
    "    'lat_deg': [38, 39, 40, 40, 40],  # Grados\n",
    "    'lat_min': [45, 30, 43, 4, 3],    # Minutos\n",
    "    'lat_sec': [23, 20, 30, 4, 18],   # Segundos\n",
    "    'lon_deg': [7, 7, 6, 4, 4],       # Grados\n",
    "    'lon_min': [51, 37, 59, 25, 25],  # Minutos\n",
    "    'lon_sec': [19, 15, 55, 25, 57],  # Segundos\n",
    "    'utm_x': [4444275, 4443500, 4443460, 4443165, 4443460],  # UTM X\n",
    "    'utm_y': [489900, 489025, 490075, 488900, 488475],       # UTM Y\n",
    "    'system': ['ED50'] * 5  # Sistema geodésico\n",
    "}\n",
    "\n",
    "# Crear DataFrame\n",
    "df = pd.DataFrame(data)\n",
    "\n",
    "# Función para convertir GMS a Decimal\n",
    "def gms_to_decimal(degrees, minutes, seconds):\n",
    "    return degrees + (minutes / 60) + (seconds / 3600)\n",
    "\n",
    "# Agregar columnas de coordenadas decimales\n",
    "df['lat_decimal'] = df.apply(lambda row: gms_to_decimal(row['lat_deg'], row['lat_min'], row['lat_sec']), axis=1)\n",
    "df['lon_decimal'] = df.apply(lambda row: gms_to_decimal(row['lon_deg'], row['lon_min'], row['lon_sec']), axis=1)\n",
    "\n",
    "# Proyectar a UTM (de ED50 a ETRS89)\n",
    "proj_ed50 = Proj(proj=\"utm\", zone=30, datum=\"ED50\")\n",
    "proj_etrs89 = Proj(proj=\"utm\", zone=30, datum=\"ETRS89\")\n",
    "\n",
    "# Transformar coordenadas\n",
    "def transform_coords(x, y, from_proj, to_proj):\n",
    "    return transform(from_proj, to_proj, x, y)\n",
    "\n",
    "# Agregar coordenadas transformadas\n",
    "df[['utm_x_etrs89', 'utm_y_etrs89']] = df.apply(\n",
    "    lambda row: transform_coords(row['utm_x'], row['utm_y'], proj_ed50, proj_etrs89),\n",
    "    axis=1, result_type='expand'\n",
    ")\n",
    "\n",
    "# Mostrar resultados\n",
    "print(df[['lat_decimal', 'lon_decimal', 'utm_x_etrs89', 'utm_y_etrs89']])\n"
   ]
  }
 ],
 "metadata": {
  "kernelspec": {
   "display_name": "Python 3",
   "language": "python",
   "name": "python3"
  },
  "language_info": {
   "name": "python",
   "version": "3.12.4"
  }
 },
 "nbformat": 4,
 "nbformat_minor": 2
}
